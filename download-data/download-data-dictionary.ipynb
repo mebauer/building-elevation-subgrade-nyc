{
 "cells": [
  {
   "cell_type": "markdown",
   "id": "5d56f523",
   "metadata": {},
   "source": [
    "\n",
    "# Download Data Dictionary and Data Guidance\n",
    "Exploring the Building Elevation and Subgrade (BES) Data in New York City in Python  \n",
    "\n",
    "Author: Mark Bauer"
   ]
  },
  {
   "cell_type": "code",
   "execution_count": 6,
   "id": "55b4ccdd",
   "metadata": {},
   "outputs": [],
   "source": [
    "# import libraries\n",
    "import urllib"
   ]
  },
  {
   "cell_type": "code",
   "execution_count": 2,
   "id": "c14469e6",
   "metadata": {},
   "outputs": [
    {
     "name": "stdout",
     "output_type": "stream",
     "text": [
      "Python implementation: CPython\n",
      "Python version       : 3.8.13\n",
      "IPython version      : 8.4.0\n",
      "\n",
      "urllib.request: 3.8\n",
      "\n"
     ]
    }
   ],
   "source": [
    "# Printing verions of Python modules and packages with **watermark** - the IPython magic extension.\n",
    "%reload_ext watermark\n",
    "%watermark -v -p urllib.request"
   ]
  },
  {
   "cell_type": "markdown",
   "id": "a6dd7631",
   "metadata": {},
   "source": [
    "![cover-photo](../images/dataset-cover-photo.png)\n",
    "Screenshot of data set on NYC Open Data.\n",
    "\n",
    "Link to data set website: https://data.cityofnewyork.us/City-Government/Building-Elevation-and-Subgrade-BES-/bsin-59hv"
   ]
  },
  {
   "cell_type": "markdown",
   "id": "124c952a",
   "metadata": {},
   "source": [
    "# Download Data Dictionary"
   ]
  },
  {
   "cell_type": "code",
   "execution_count": 3,
   "id": "9a78e78f",
   "metadata": {},
   "outputs": [
    {
     "name": "stdout",
     "output_type": "stream",
     "text": [
      "Building_Elevation_and_Subgrade-Data_Dictionary.xlsx\r\n",
      "README.md\r\n",
      "data-dictionary-download.ipynb\r\n",
      "exploratory.ipynb\r\n",
      "\u001b[34mfigures\u001b[m\u001b[m/\r\n",
      "\u001b[34mimages\u001b[m\u001b[m/\r\n"
     ]
    }
   ],
   "source": [
    "# url of data dictionary\n",
    "url = 'https://data.cityofnewyork.us/api/views/bsin-59hv/files/03455783-2880-43f9-9e53-718ecb353c47\\\n",
    "?download=true&filename=Building_Elevation_and_Subgrade-Data_Dictionary.xlsx'\n",
    "\n",
    "# name file\n",
    "file_name = 'Building_Elevation_and_Subgrade-Data_Dictionary.xlsx'\n",
    "urllib.request.urlretrieve(url, file_name)\n",
    "\n",
    "# sanity check to confirm download\n",
    "%ls"
   ]
  },
  {
   "cell_type": "markdown",
   "id": "3977f990",
   "metadata": {},
   "source": [
    "# Download Data Guidance PDF"
   ]
  },
  {
   "cell_type": "code",
   "execution_count": 4,
   "id": "2b9ae674",
   "metadata": {},
   "outputs": [
    {
     "name": "stdout",
     "output_type": "stream",
     "text": [
      "Building Elevation and Subgrade Dataset Guidance.pdf\r\n",
      "Building_Elevation_and_Subgrade-Data_Dictionary.xlsx\r\n",
      "README.md\r\n",
      "data-dictionary-download.ipynb\r\n",
      "exploratory.ipynb\r\n",
      "\u001b[34mfigures\u001b[m\u001b[m/\r\n",
      "\u001b[34mimages\u001b[m\u001b[m/\r\n"
     ]
    }
   ],
   "source": [
    "# url of data guidance\n",
    "url = 'https://data.cityofnewyork.us/api/views/bsin-59hv/files/ae1b369c-6ce1-4805-9ad0-aca9f62f3182\\\n",
    "?download=true&filename=Building%20Elevation%20and%20Subgrade%20Dataset%20Guidance.pdf'\n",
    "\n",
    "# name file\n",
    "file_name = 'Building Elevation and Subgrade Dataset Guidance.pdf'\n",
    "urllib.request.urlretrieve(url, file_name)\n",
    "\n",
    "# sanity check to confirm download\n",
    "%ls"
   ]
  },
  {
   "cell_type": "code",
   "execution_count": null,
   "id": "6faee2b4",
   "metadata": {},
   "outputs": [],
   "source": []
  }
 ],
 "metadata": {
  "kernelspec": {
   "display_name": "Python 3 (ipykernel)",
   "language": "python",
   "name": "python3"
  },
  "language_info": {
   "codemirror_mode": {
    "name": "ipython",
    "version": 3
   },
   "file_extension": ".py",
   "mimetype": "text/x-python",
   "name": "python",
   "nbconvert_exporter": "python",
   "pygments_lexer": "ipython3",
   "version": "3.8.13"
  }
 },
 "nbformat": 4,
 "nbformat_minor": 5
}
