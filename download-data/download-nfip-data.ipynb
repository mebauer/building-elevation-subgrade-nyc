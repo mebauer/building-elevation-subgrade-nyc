{
 "cells": [
  {
   "cell_type": "markdown",
   "id": "5d56f523",
   "metadata": {},
   "source": [
    "# Download National Flood Insurance Program (NFIP) Policies Data\n",
    "\n",
    "Exploring the NYC Building Elevation and Subgrade (BES) Data Set in Python  \n",
    "\n",
    "Author: Mark Bauer"
   ]
  },
  {
   "cell_type": "code",
   "execution_count": 1,
   "id": "55b4ccdd",
   "metadata": {},
   "outputs": [],
   "source": [
    "import os\n",
    "import glob\n",
    "import pandas as pd\n",
    "import duckdb\n",
    "import requests\n",
    "import json\n",
    "import time"
   ]
  },
  {
   "cell_type": "code",
   "execution_count": 2,
   "id": "c14469e6",
   "metadata": {},
   "outputs": [
    {
     "name": "stdout",
     "output_type": "stream",
     "text": [
      "Python implementation: CPython\n",
      "Python version       : 3.8.13\n",
      "IPython version      : 8.4.0\n",
      "\n",
      "duckdb: 0.10.0\n",
      "\n"
     ]
    }
   ],
   "source": [
    "# Printing verions of Python modules and packages with **watermark** - the IPython magic extension.\n",
    "%reload_ext watermark\n",
    "%watermark -v -p duckdb"
   ]
  },
  {
   "cell_type": "markdown",
   "id": "d436ae50",
   "metadata": {},
   "source": [
    "# Data Set: The National Flood Insurance Program (NFIP)\n",
    "The National Flood Insurance Program (NFIP) Policies Data for NYC."
   ]
  },
  {
   "cell_type": "markdown",
   "id": "3ebb45b4",
   "metadata": {},
   "source": [
    "Retrive data using the FEMA API."
   ]
  },
  {
   "cell_type": "code",
   "execution_count": 3,
   "id": "fe7fec54",
   "metadata": {},
   "outputs": [],
   "source": [
    "# set constant parameters\n",
    "BASE_URL = 'https://www.fema.gov/api/open/v2/'\n",
    "FORMAT_PARAM = '$format=json'\n",
    "METADATA_PARAM = '&$metadata=off'\n",
    "FILTER_PARAM = '&$filter=countyCode%20eq%20%27{}%27'\n",
    "SKIP_PARAM = '&$skip={}'\n",
    "TOP_PARAM = '&$top=10000'\n",
    "\n",
    "def get_api_url(dataset, county_fips, skip):\n",
    "    \"\"\"Generate the API URL for the given dataset, county FIPS, and skip value.\"\"\"\n",
    "    url_base = f'{BASE_URL}FimaNfip{dataset.capitalize()}?'\n",
    "    return f'{url_base}{FORMAT_PARAM}{METADATA_PARAM}{FILTER_PARAM}{SKIP_PARAM}{TOP_PARAM}'.format(county_fips, skip)\n",
    "\n",
    "def make_request(url):\n",
    "    \"\"\"Make an HTTP request and handle potential errors.\"\"\"\n",
    "    try:\n",
    "        response = requests.get(url)\n",
    "        response.raise_for_status()\n",
    "        return response.json()\n",
    "    except requests.RequestException as e:\n",
    "        print(f\"Error making request: {e}\")\n",
    "        return None\n",
    "\n",
    "def download_data(dataset, county_fips):\n",
    "    \"\"\"\n",
    "    Download FEMA NFIP policies or claims data for a specific county and save it to a JSON file.\n",
    "\n",
    "    Parameters:\n",
    "    - county_fips (str): County FIPS code.\n",
    "    - dataset (str): Either 'policies' or 'claims'.\n",
    "\n",
    "    Returns:\n",
    "    - None\n",
    "    \"\"\"\n",
    "    if dataset not in {'policies', 'claims'}:\n",
    "        raise ValueError(\"Invalid dataset. Pass either 'policies' or 'claims' to the dataset argument\")\n",
    "\n",
    "    if not isinstance(county_fips, str):\n",
    "        raise ValueError(\"County FIPS code must be passed as a string\")\n",
    "\n",
    "    result_list = []\n",
    "    skip = 0\n",
    "\n",
    "    # we'll add print statements to see what's happening\n",
    "    print(f\"Dataset: {dataset}\")\n",
    "    print(f'County FIPS: {county_fips}\\n------------')\n",
    "\n",
    "    while True:\n",
    "        print(f'Skip number: {skip:,}')\n",
    "\n",
    "        # make HTTP request and handle JSON response\n",
    "        url = get_api_url(dataset, county_fips, skip)\n",
    "        data = make_request(url)\n",
    "\n",
    "        dataset_name = f\"FimaNfip{dataset.capitalize()}\"\n",
    "\n",
    "        # check if the response is empty or contains an error\n",
    "        if not data or dataset_name not in data:\n",
    "            break\n",
    "\n",
    "        # process JSON data and extend the result list\n",
    "        result_list.extend(data[dataset_name])\n",
    "\n",
    "        rows = len(data[dataset_name])\n",
    "        print(f'Number of rows: {rows:,}')\n",
    "        if rows < 10000:\n",
    "            break\n",
    "\n",
    "        print(f'Result list length: {len(result_list):,}')\n",
    "        skip += 10000\n",
    "        time.sleep(5)\n",
    "\n",
    "    print(f'\\nLength of the full result list: {len(result_list):,}\\n')\n",
    "\n",
    "    # write the result list to a JSON file\n",
    "    output_filename = f\"data/{dataset}-{county_fips}.json\"\n",
    "    with open(output_filename, 'w') as json_file:\n",
    "        json.dump(result_list, json_file, indent=2)"
   ]
  },
  {
   "cell_type": "markdown",
   "id": "e446e63d",
   "metadata": {},
   "source": [
    "Retrieve by counties in NYC."
   ]
  },
  {
   "cell_type": "code",
   "execution_count": 4,
   "id": "d2bd6110",
   "metadata": {
    "scrolled": false
   },
   "outputs": [
    {
     "name": "stdout",
     "output_type": "stream",
     "text": [
      "Dataset: policies\n",
      "County FIPS: 36005\n",
      "------------\n",
      "Skip number: 0\n",
      "Number of rows: 10,000\n",
      "Result list length: 10,000\n",
      "Skip number: 10,000\n",
      "Number of rows: 10,000\n",
      "Result list length: 20,000\n",
      "Skip number: 20,000\n",
      "Number of rows: 10,000\n",
      "Result list length: 30,000\n",
      "Skip number: 30,000\n",
      "Number of rows: 3,526\n",
      "\n",
      "Length of the full result list: 33,526\n",
      "\n",
      "Dataset: policies\n",
      "County FIPS: 36047\n",
      "------------\n",
      "Skip number: 0\n",
      "Number of rows: 10,000\n",
      "Result list length: 10,000\n",
      "Skip number: 10,000\n",
      "Number of rows: 10,000\n",
      "Result list length: 20,000\n",
      "Skip number: 20,000\n",
      "Number of rows: 10,000\n",
      "Result list length: 30,000\n",
      "Skip number: 30,000\n",
      "Number of rows: 10,000\n",
      "Result list length: 40,000\n",
      "Skip number: 40,000\n",
      "Number of rows: 10,000\n",
      "Result list length: 50,000\n",
      "Skip number: 50,000\n",
      "Number of rows: 10,000\n",
      "Result list length: 60,000\n",
      "Skip number: 60,000\n",
      "Number of rows: 10,000\n",
      "Result list length: 70,000\n",
      "Skip number: 70,000\n",
      "Number of rows: 10,000\n",
      "Result list length: 80,000\n",
      "Skip number: 80,000\n",
      "Number of rows: 10,000\n",
      "Result list length: 90,000\n",
      "Skip number: 90,000\n",
      "Number of rows: 10,000\n",
      "Result list length: 100,000\n",
      "Skip number: 100,000\n",
      "Number of rows: 10,000\n",
      "Result list length: 110,000\n",
      "Skip number: 110,000\n",
      "Number of rows: 10,000\n",
      "Result list length: 120,000\n",
      "Skip number: 120,000\n",
      "Number of rows: 10,000\n",
      "Result list length: 130,000\n",
      "Skip number: 130,000\n",
      "Number of rows: 10,000\n",
      "Result list length: 140,000\n",
      "Skip number: 140,000\n",
      "Number of rows: 3,822\n",
      "\n",
      "Length of the full result list: 143,822\n",
      "\n",
      "Dataset: policies\n",
      "County FIPS: 36061\n",
      "------------\n",
      "Skip number: 0\n",
      "Number of rows: 10,000\n",
      "Result list length: 10,000\n",
      "Skip number: 10,000\n",
      "Number of rows: 10,000\n",
      "Result list length: 20,000\n",
      "Skip number: 20,000\n",
      "Number of rows: 10,000\n",
      "Result list length: 30,000\n",
      "Skip number: 30,000\n",
      "Number of rows: 5,262\n",
      "\n",
      "Length of the full result list: 35,262\n",
      "\n",
      "Dataset: policies\n",
      "County FIPS: 36081\n",
      "------------\n",
      "Skip number: 0\n",
      "Number of rows: 10,000\n",
      "Result list length: 10,000\n",
      "Skip number: 10,000\n",
      "Number of rows: 10,000\n",
      "Result list length: 20,000\n",
      "Skip number: 20,000\n",
      "Number of rows: 10,000\n",
      "Result list length: 30,000\n",
      "Skip number: 30,000\n",
      "Number of rows: 10,000\n",
      "Result list length: 40,000\n",
      "Skip number: 40,000\n",
      "Number of rows: 10,000\n",
      "Result list length: 50,000\n",
      "Skip number: 50,000\n",
      "Number of rows: 10,000\n",
      "Result list length: 60,000\n",
      "Skip number: 60,000\n",
      "Number of rows: 10,000\n",
      "Result list length: 70,000\n",
      "Skip number: 70,000\n",
      "Number of rows: 10,000\n",
      "Result list length: 80,000\n",
      "Skip number: 80,000\n",
      "Number of rows: 10,000\n",
      "Result list length: 90,000\n",
      "Skip number: 90,000\n",
      "Number of rows: 10,000\n",
      "Result list length: 100,000\n",
      "Skip number: 100,000\n",
      "Number of rows: 10,000\n",
      "Result list length: 110,000\n",
      "Skip number: 110,000\n",
      "Number of rows: 10,000\n",
      "Result list length: 120,000\n",
      "Skip number: 120,000\n",
      "Number of rows: 10,000\n",
      "Result list length: 130,000\n",
      "Skip number: 130,000\n",
      "Number of rows: 10,000\n",
      "Result list length: 140,000\n",
      "Skip number: 140,000\n",
      "Number of rows: 10,000\n",
      "Result list length: 150,000\n",
      "Skip number: 150,000\n",
      "Number of rows: 10,000\n",
      "Result list length: 160,000\n",
      "Skip number: 160,000\n",
      "Number of rows: 10,000\n",
      "Result list length: 170,000\n",
      "Skip number: 170,000\n",
      "Number of rows: 10,000\n",
      "Result list length: 180,000\n",
      "Skip number: 180,000\n",
      "Number of rows: 10,000\n",
      "Result list length: 190,000\n",
      "Skip number: 190,000\n",
      "Number of rows: 10,000\n",
      "Result list length: 200,000\n",
      "Skip number: 200,000\n",
      "Number of rows: 10,000\n",
      "Result list length: 210,000\n",
      "Skip number: 210,000\n",
      "Number of rows: 270\n",
      "\n",
      "Length of the full result list: 210,270\n",
      "\n",
      "Dataset: policies\n",
      "County FIPS: 36085\n",
      "------------\n",
      "Skip number: 0\n",
      "Number of rows: 10,000\n",
      "Result list length: 10,000\n",
      "Skip number: 10,000\n",
      "Number of rows: 10,000\n",
      "Result list length: 20,000\n",
      "Skip number: 20,000\n",
      "Number of rows: 10,000\n",
      "Result list length: 30,000\n",
      "Skip number: 30,000\n",
      "Number of rows: 10,000\n",
      "Result list length: 40,000\n",
      "Skip number: 40,000\n",
      "Number of rows: 10,000\n",
      "Result list length: 50,000\n",
      "Skip number: 50,000\n",
      "Number of rows: 10,000\n",
      "Result list length: 60,000\n",
      "Skip number: 60,000\n",
      "Number of rows: 10,000\n",
      "Result list length: 70,000\n",
      "Skip number: 70,000\n",
      "Number of rows: 10,000\n",
      "Result list length: 80,000\n",
      "Skip number: 80,000\n",
      "Number of rows: 10,000\n",
      "Result list length: 90,000\n",
      "Skip number: 90,000\n",
      "Number of rows: 9,507\n",
      "\n",
      "Length of the full result list: 99,507\n",
      "\n"
     ]
    }
   ],
   "source": [
    "download_data('policies', '36005')\n",
    "download_data('policies', '36047')\n",
    "download_data('policies', '36061')\n",
    "download_data('policies', '36081')\n",
    "download_data('policies', '36085')"
   ]
  },
  {
   "cell_type": "code",
   "execution_count": 5,
   "id": "323fde2e",
   "metadata": {},
   "outputs": [
    {
     "name": "stdout",
     "output_type": "stream",
     "text": [
      "bes-data.parquet     policies-36047.json  policies-36081.json\r\n",
      "policies-36005.json  policies-36061.json  policies-36085.json\r\n"
     ]
    }
   ],
   "source": [
    "ls data/"
   ]
  },
  {
   "cell_type": "code",
   "execution_count": 6,
   "id": "90c32b17",
   "metadata": {},
   "outputs": [
    {
     "name": "stdout",
     "output_type": "stream",
     "text": [
      "┌────────────┐\n",
      "│ count_rows │\n",
      "│   int64    │\n",
      "├────────────┤\n",
      "│     522387 │\n",
      "└────────────┘\n",
      "\n"
     ]
    }
   ],
   "source": [
    "# create a DuckDB database instance\n",
    "con = duckdb.connect()\n",
    "\n",
    "# create table of the bes data\n",
    "con.sql(\n",
    "    \"\"\"\n",
    "    CREATE TABLE nfip_data AS\n",
    "    FROM read_json('data/*.json')\n",
    "    \"\"\"\n",
    ")\n",
    "\n",
    "# examine count of rows\n",
    "con.sql(\"SELECT COUNT(*) AS count_rows FROM nfip_data\").show()"
   ]
  },
  {
   "cell_type": "code",
   "execution_count": 12,
   "id": "2fff3908",
   "metadata": {},
   "outputs": [],
   "source": [
    "con.sql(\"COPY nfip_data TO 'data/nfip-data.parquet' (FORMAT PARQUET)\")"
   ]
  },
  {
   "cell_type": "code",
   "execution_count": 9,
   "id": "76de4931",
   "metadata": {},
   "outputs": [
    {
     "name": "stdout",
     "output_type": "stream",
     "text": [
      " 96M\tdata/bes-data.parquet\r\n",
      " 36M\tdata/nfip-data.parquet\r\n",
      " 97M\tdata/policies-36005.json\r\n",
      "401M\tdata/policies-36047.json\r\n",
      "112M\tdata/policies-36061.json\r\n",
      "593M\tdata/policies-36081.json\r\n",
      "289M\tdata/policies-36085.json\r\n"
     ]
    }
   ],
   "source": [
    "!du -h data/*"
   ]
  },
  {
   "cell_type": "code",
   "execution_count": 10,
   "id": "f75603db",
   "metadata": {},
   "outputs": [],
   "source": [
    "!rm data/*.json"
   ]
  },
  {
   "cell_type": "code",
   "execution_count": 11,
   "id": "a7c1cbb1",
   "metadata": {},
   "outputs": [
    {
     "name": "stdout",
     "output_type": "stream",
     "text": [
      "bes-data.parquet   nfip-data.parquet\r\n"
     ]
    }
   ],
   "source": [
    "ls data/"
   ]
  },
  {
   "cell_type": "code",
   "execution_count": null,
   "id": "f0eb7a50",
   "metadata": {},
   "outputs": [],
   "source": []
  }
 ],
 "metadata": {
  "kernelspec": {
   "display_name": "Python 3 (ipykernel)",
   "language": "python",
   "name": "python3"
  },
  "language_info": {
   "codemirror_mode": {
    "name": "ipython",
    "version": 3
   },
   "file_extension": ".py",
   "mimetype": "text/x-python",
   "name": "python",
   "nbconvert_exporter": "python",
   "pygments_lexer": "ipython3",
   "version": "3.8.13"
  }
 },
 "nbformat": 4,
 "nbformat_minor": 5
}
