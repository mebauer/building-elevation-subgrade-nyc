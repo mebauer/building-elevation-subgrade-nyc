{
 "cells": [
  {
   "cell_type": "markdown",
   "id": "5d56f523",
   "metadata": {},
   "source": [
    "# Download NYC Building Elevation and Subgrade (BES) Data\n",
    "\n",
    "Exploring the NYC Building Elevation and Subgrade (BES) Data Set in Python  \n",
    "\n",
    "Author: Mark Bauer"
   ]
  },
  {
   "cell_type": "code",
   "execution_count": 1,
   "id": "55b4ccdd",
   "metadata": {},
   "outputs": [],
   "source": [
    "import duckdb\n",
    "import requests"
   ]
  },
  {
   "cell_type": "code",
   "execution_count": 2,
   "id": "c14469e6",
   "metadata": {},
   "outputs": [
    {
     "name": "stdout",
     "output_type": "stream",
     "text": [
      "Python implementation: CPython\n",
      "Python version       : 3.8.13\n",
      "IPython version      : 8.4.0\n",
      "\n",
      "pandas: 1.4.3\n",
      "duckdb: 0.10.0\n",
      "\n"
     ]
    }
   ],
   "source": [
    "# Printing verions of Python modules and packages with **watermark** - the IPython magic extension.\n",
    "%reload_ext watermark\n",
    "%watermark -v -p pandas,duckdb"
   ]
  },
  {
   "cell_type": "code",
   "execution_count": 3,
   "id": "1eb60e57",
   "metadata": {},
   "outputs": [
    {
     "name": "stdout",
     "output_type": "stream",
     "text": [
      "CSV file data/bes-data.csv downloaded successfully.\n"
     ]
    }
   ],
   "source": [
    "url = 'https://data.cityofnewyork.us/api/views/bsin-59hv/rows.csv?accessType=DOWNLOAD'\n",
    "file_name = 'data/bes-data.csv'\n",
    "\n",
    "response = requests.get(url)\n",
    "\n",
    "# Check if the request was successful (status code 200)\n",
    "if response.status_code == 200:\n",
    "    # Save the content of the response to a local file\n",
    "    with open(file_name, 'wb') as f:\n",
    "        f.write(response.content)\n",
    "    print(f\"CSV file {file_name} downloaded successfully.\")\n",
    "else:\n",
    "    print(\"Failed to download CSV file.\")"
   ]
  },
  {
   "cell_type": "code",
   "execution_count": 4,
   "id": "0e03ff4b",
   "metadata": {},
   "outputs": [
    {
     "name": "stdout",
     "output_type": "stream",
     "text": [
      "bes-data.csv       bes-data.parquet   nfip-data.parquet\r\n"
     ]
    }
   ],
   "source": [
    "ls data/"
   ]
  },
  {
   "cell_type": "code",
   "execution_count": 5,
   "id": "66b6635a",
   "metadata": {},
   "outputs": [
    {
     "name": "stdout",
     "output_type": "stream",
     "text": [
      "┌────────────┐\n",
      "│ count_rows │\n",
      "│   int64    │\n",
      "├────────────┤\n",
      "│     861876 │\n",
      "└────────────┘\n",
      "\n"
     ]
    }
   ],
   "source": [
    "# create a DuckDB database instance\n",
    "con = duckdb.connect()\n",
    "\n",
    "# create table of the bes data\n",
    "con.sql(\n",
    "    \"\"\"\n",
    "    CREATE TABLE bes_data AS\n",
    "    FROM read_csv('data/bes-data.csv')\n",
    "    \"\"\"\n",
    ")\n",
    "\n",
    "# examine count of rows\n",
    "con.sql(\"SELECT COUNT(*) AS count_rows FROM bes_data\").show()"
   ]
  },
  {
   "cell_type": "code",
   "execution_count": 9,
   "id": "f4d7c071",
   "metadata": {},
   "outputs": [],
   "source": [
    "con.sql(\"COPY bes_data TO 'data/bes-data.parquet' (FORMAT PARQUET)\")"
   ]
  },
  {
   "cell_type": "code",
   "execution_count": 10,
   "id": "ef10d303",
   "metadata": {},
   "outputs": [
    {
     "name": "stdout",
     "output_type": "stream",
     "text": [
      "bes-data.csv       bes-data.parquet   nfip-data.parquet\r\n"
     ]
    }
   ],
   "source": [
    "ls data/"
   ]
  },
  {
   "cell_type": "code",
   "execution_count": 11,
   "id": "101a0f23",
   "metadata": {},
   "outputs": [
    {
     "name": "stdout",
     "output_type": "stream",
     "text": [
      "301M\tdata/bes-data.csv\r\n",
      " 96M\tdata/bes-data.parquet\r\n",
      " 36M\tdata/nfip-data.parquet\r\n"
     ]
    }
   ],
   "source": [
    "!du -h data/*"
   ]
  },
  {
   "cell_type": "code",
   "execution_count": 12,
   "id": "1ef9163f",
   "metadata": {},
   "outputs": [],
   "source": [
    "!rm data/bes-data.csv"
   ]
  },
  {
   "cell_type": "code",
   "execution_count": 13,
   "id": "8737a934",
   "metadata": {},
   "outputs": [
    {
     "name": "stdout",
     "output_type": "stream",
     "text": [
      "bes-data.parquet   nfip-data.parquet\r\n"
     ]
    }
   ],
   "source": [
    "ls data/"
   ]
  },
  {
   "cell_type": "code",
   "execution_count": 17,
   "id": "f5a768ff",
   "metadata": {},
   "outputs": [
    {
     "data": {
      "text/plain": [
       "┌──────────────┐\n",
       "│ count_star() │\n",
       "│    int64     │\n",
       "├──────────────┤\n",
       "│       861876 │\n",
       "└──────────────┘"
      ]
     },
     "execution_count": 17,
     "metadata": {},
     "output_type": "execute_result"
    }
   ],
   "source": [
    "con.sql(\"SELECT count(*) FROM read_parquet('data/bes-data.parquet')\")"
   ]
  },
  {
   "cell_type": "code",
   "execution_count": 18,
   "id": "2668bd16",
   "metadata": {},
   "outputs": [],
   "source": [
    "con.close()"
   ]
  },
  {
   "cell_type": "code",
   "execution_count": null,
   "id": "6b248102",
   "metadata": {},
   "outputs": [],
   "source": []
  }
 ],
 "metadata": {
  "kernelspec": {
   "display_name": "Python 3 (ipykernel)",
   "language": "python",
   "name": "python3"
  },
  "language_info": {
   "codemirror_mode": {
    "name": "ipython",
    "version": 3
   },
   "file_extension": ".py",
   "mimetype": "text/x-python",
   "name": "python",
   "nbconvert_exporter": "python",
   "pygments_lexer": "ipython3",
   "version": "3.8.13"
  }
 },
 "nbformat": 4,
 "nbformat_minor": 5
}
